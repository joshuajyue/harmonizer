{
 "cells": [
  {
   "cell_type": "code",
   "execution_count": 5,
   "id": "efa14e0d",
   "metadata": {},
   "outputs": [
    {
     "name": "stderr",
     "output_type": "stream",
     "text": [
      "/Users/joshuayue/Programming/harmonizer/harmonizer/venv/lib/python3.12/site-packages/pretty_midi/instrument.py:11: UserWarning: pkg_resources is deprecated as an API. See https://setuptools.pypa.io/en/latest/pkg_resources.html. The pkg_resources package is slated for removal as early as 2025-11-30. Refrain from using this package or pin to Setuptools<81.\n",
      "  import pkg_resources\n"
     ]
    }
   ],
   "source": [
    "import pretty_midi"
   ]
  },
  {
   "cell_type": "code",
   "execution_count": 6,
   "id": "821325e0",
   "metadata": {},
   "outputs": [],
   "source": [
    "def harmonize_melody(input_path: str, output_path: str):\n",
    "    # Load the existing melody\n",
    "    midi = pretty_midi.PrettyMIDI(input_path)\n",
    "    \n",
    "    # Assume the melody is in the first instrument\n",
    "    melody_instrument = midi.instruments[0]\n",
    "\n",
    "    # Create a new instrument for harmony\n",
    "    harmony_instrument = pretty_midi.Instrument(program=0)  # Piano\n",
    "\n",
    "    for note in melody_instrument.notes:\n",
    "        root = note.pitch\n",
    "        chord_pitches = [root, root + 4, root + 7]  # Major triad\n",
    "        for pitch in chord_pitches:\n",
    "            harmony_note = pretty_midi.Note(\n",
    "                velocity=80,\n",
    "                pitch=pitch,\n",
    "                start=note.start,\n",
    "                end=note.end\n",
    "            )\n",
    "            harmony_instrument.notes.append(harmony_note)\n",
    "\n",
    "    # Add the harmony instrument to the MIDI object\n",
    "    midi.instruments.append(harmony_instrument)\n",
    "\n",
    "    # Write the harmonized MIDI to output\n",
    "    midi.write(output_path)"
   ]
  },
  {
   "cell_type": "code",
   "execution_count": 7,
   "id": "40270794",
   "metadata": {},
   "outputs": [
    {
     "name": "stderr",
     "output_type": "stream",
     "text": [
      "/Users/joshuayue/Programming/harmonizer/harmonizer/venv/lib/python3.12/site-packages/pretty_midi/pretty_midi.py:100: RuntimeWarning: Tempo, Key or Time signature change events found on non-zero tracks.  This is not a valid type 0 or type 1 MIDI file.  Tempo, Key or Time Signature may be wrong.\n",
      "  warnings.warn(\n"
     ]
    }
   ],
   "source": [
    "harmonize_melody(\"melody.mid\", \"harmonized.mid\")"
   ]
  }
 ],
 "metadata": {
  "kernelspec": {
   "display_name": "venv",
   "language": "python",
   "name": "python3"
  },
  "language_info": {
   "codemirror_mode": {
    "name": "ipython",
    "version": 3
   },
   "file_extension": ".py",
   "mimetype": "text/x-python",
   "name": "python",
   "nbconvert_exporter": "python",
   "pygments_lexer": "ipython3",
   "version": "3.12.1"
  }
 },
 "nbformat": 4,
 "nbformat_minor": 5
}
